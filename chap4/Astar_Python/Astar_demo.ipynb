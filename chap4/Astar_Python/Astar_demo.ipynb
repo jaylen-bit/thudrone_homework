{
 "cells": [
  {
   "cell_type": "markdown",
   "metadata": {},
   "source": [
    "# A* algorithm"
   ]
  },
  {
   "cell_type": "code",
   "execution_count": 1,
   "metadata": {},
   "outputs": [],
   "source": [
    "import numpy as np\n",
    "import matplotlib.pyplot as plt"
   ]
  },
  {
   "cell_type": "markdown",
   "metadata": {},
   "source": [
    "## Initialization\n",
    "`mapmap`不为 0 的元素表示有障碍无法通过"
   ]
  },
  {
   "cell_type": "code",
   "execution_count": 2,
   "metadata": {},
   "outputs": [
    {
     "name": "stdout",
     "output_type": "stream",
     "text": [
      "(15, 15)\n"
     ]
    }
   ],
   "source": [
    "mapmap = np.load('map.npy')\n",
    "print(mapmap.shape)\n",
    "#print(mapmap)\n",
    "startPosition = (2, 0)    #Initial point\n",
    "goalPosition = (13, 11)   #End point\n",
    "direction = [(0,1),(0,-1),(1,0),(-1,0),(1,1),(1,-1),(-1,1),(-1,-1)] #reachable direction\n",
    "mapRow, mapCol = mapmap.shape;\n"
   ]
  },
  {
   "cell_type": "markdown",
   "metadata": {},
   "source": [
    "## Visualization"
   ]
  },
  {
   "cell_type": "code",
   "execution_count": 3,
   "metadata": {},
   "outputs": [
    {
     "data": {
      "image/png": "[encoded data removed]",
      "text/plain": [
       "<matplotlib.figure.Figure at 0x20e5d19d0f0>"
      ]
     },
     "metadata": {},
     "output_type": "display_data"
    }
   ],
   "source": [
    "%matplotlib inline\n",
    "mapViz = mapmap.copy()\n",
    "mapViz[startPosition[0],startPosition[1]] = 20;\n",
    "mapViz[goalPosition[0], goalPosition[1]] = 30;\n",
    "plt.pcolormesh(mapViz)\n",
    "plt.show()"
   ]
  },
  {
   "cell_type": "markdown",
   "metadata": {},
   "source": [
    "## Heuristic function\n",
    "$f = g + h$\n",
    "\n",
    "例如：\n",
    "\n",
    "- 相邻格距离 10 \n",
    "- 对角距离 14"
   ]
  },
  {
   "cell_type": "code",
   "execution_count": 4,
   "metadata": {},
   "outputs": [],
   "source": [
    "def g(parameters):\n",
    "    # code here ...\n",
    "    pass\n",
    "    \n",
    "def h(parameters):\n",
    "    # code here ...\n",
    "    pass\n",
    "\n",
    "def f(parameters):\n",
    "    # code here ...\n",
    "    pass"
   ]
  },
  {
   "cell_type": "markdown",
   "metadata": {},
   "source": [
    "## other function"
   ]
  },
  {
   "cell_type": "code",
   "execution_count": null,
   "metadata": {},
   "outputs": [],
   "source": []
  },
  {
   "cell_type": "markdown",
   "metadata": {},
   "source": [
    "## A* algorithm\n",
    "建议`openList`和`closeList`中的元素具有如下格式(tuple)：\n",
    "\n",
    "`(row, column, f, g, h, parentNode)`\n",
    "\n",
    "也可以自行修改，不过可视化代码也需要响应修改"
   ]
  },
  {
   "cell_type": "code",
   "execution_count": 5,
   "metadata": {},
   "outputs": [],
   "source": [
    "# initialization\n",
    "openList = []\n",
    "closeList = []\n",
    "\n",
    "\n",
    "while True:\n",
    "    ######################################\n",
    "    ########    code here ...   ########\n",
    "    break\n",
    "    ######################################\n"
   ]
  },
  {
   "cell_type": "markdown",
   "metadata": {},
   "source": [
    "## Visualization"
   ]
  },
  {
   "cell_type": "code",
   "execution_count": null,
   "metadata": {},
   "outputs": [],
   "source": [
    "%matplotlib qt5\n",
    "fig, (ax0, ax1) = plt.subplots(1, 2)\n",
    "fig.suptitle('A* algorithm',fontsize=36)\n",
    "ax0.set_title('Searching process')\n",
    "ax1.set_title('Searched path')\n",
    "\n",
    "mapViz = mapmap.copy()\n",
    "mapViz[startPosition[0],startPosition[1]] = 30;\n",
    "mapViz[goalPosition[0], goalPosition[1]] = 30;\n",
    "for k in range(len(closeList)-1):\n",
    "    mapViz[closeList[k][0],closeList[k][1]] = 200-closeList[k][2]\n",
    "    ax0.pcolormesh(mapViz)\n",
    "    plt.pause(0.1)\n",
    "    \n",
    "mapViz = mapmap.copy()\n",
    "mapViz[startPosition[0],startPosition[1]] = 30;\n",
    "mapViz[goalPosition[0], goalPosition[1]] = 30;\n",
    "path = []\n",
    "nodeIdx = -1\n",
    "while True:\n",
    "    if closeList[nodeIdx][0:2]==startPosition:\n",
    "        break\n",
    "    path.append(closeList[nodeIdx][0:2])\n",
    "    nodeIdx = closeList[nodeIdx][-1]\n",
    "path.reverse()\n",
    "for k in range(len(path)-1):\n",
    "    mapViz[path[k][0],path[k][1]] = 20\n",
    "    ax1.pcolormesh(mapViz)\n",
    "    plt.pause(0.1)\n",
    "    \n",
    "plt.show()"
   ]
  }
 ],
 "metadata": {
  "kernelspec": {
   "display_name": "Python 3",
   "language": "python",
   "name": "python3"
  },
  "language_info": {
   "codemirror_mode": {
    "name": "ipython",
    "version": 3
   },
   "file_extension": ".py",
   "mimetype": "text/x-python",
   "name": "python",
   "nbconvert_exporter": "python",
   "pygments_lexer": "ipython3",
   "version": "3.6.4"
  }
 },
 "nbformat": 4,
 "nbformat_minor": 2
}
